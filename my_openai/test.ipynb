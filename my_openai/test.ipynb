{
 "cells": [
  {
   "cell_type": "code",
   "execution_count": 47,
   "metadata": {
    "collapsed": true,
    "ExecuteTime": {
     "start_time": "2023-04-11T22:13:05.248857Z",
     "end_time": "2023-04-11T22:13:05.253479Z"
    }
   },
   "outputs": [],
   "source": [
    "import openai\n",
    "\n",
    "from configs.config import arg_config_dev as config\n",
    "import pandas as pd\n",
    "import time\n",
    "import numpy as np\n",
    "import os\n",
    "openai.api_key = config['openai_api_key']\n",
    "openai.organization = config['openai_organization']"
   ]
  },
  {
   "cell_type": "code",
   "execution_count": 48,
   "outputs": [
    {
     "name": "stderr",
     "output_type": "stream",
     "text": [
      "/var/folders/7y/hs0h3vks5wsc81xrqpc8m8q40000gp/T/ipykernel_31776/2565044820.py:3: FutureWarning: In a future version of pandas all arguments of read_csv except for the argument 'filepath_or_buffer' will be keyword-only.\n",
      "  album_df = pd.read_csv(data_path, ',', error_bad_lines=False)\n",
      "/var/folders/7y/hs0h3vks5wsc81xrqpc8m8q40000gp/T/ipykernel_31776/2565044820.py:3: FutureWarning: The error_bad_lines argument has been deprecated and will be removed in a future version. Use on_bad_lines in the future.\n",
      "\n",
      "\n",
      "  album_df = pd.read_csv(data_path, ',', error_bad_lines=False)\n"
     ]
    }
   ],
   "source": [
    "# data_path = os.path.join(params['data_path'], 'xzp_la_album_recable_{dt}.csv'.format(dt=dt))\n",
    "data_path = 'xiaoshuo.csv'\n",
    "album_df = pd.read_csv(data_path, ',', error_bad_lines=False)"
   ],
   "metadata": {
    "collapsed": false,
    "ExecuteTime": {
     "start_time": "2023-04-11T22:13:05.460423Z",
     "end_time": "2023-04-11T22:13:05.490482Z"
    }
   }
  },
  {
   "cell_type": "code",
   "execution_count": 49,
   "outputs": [
    {
     "data": {
      "text/plain": "       albumid         albumname tagname2 tagname3   play_dur     uv    rn\n0     42540805           校花的贴身高手    有声小说1     都市纵横  467687.05  33986     1\n1     58273021       青岛江湖往事-聂磊传奇    有声小说1     都市纵横  221704.93  29790     2\n2     37191013              盗墓笔记    有声小说1     悬疑推理  119166.38  29688     3\n3     39843428              斗罗大陆    有声小说1     玄幻异界  129491.52  29509     4\n4     65637931  修炼9999级了，老祖才100级    有声小说1     玄幻异界   22354.11  25225     5\n...        ...               ...      ...      ...        ...    ...   ...\n3584  57384454        修仙女配只想独自美丽    有声小说1     玄幻异界     483.43    101  3570\n3585  38338851              贞观贤王    有声小说1     历史铁血     621.39    101  3570\n3586  40462658         我真的不是气运之子    有声小说1     玄幻异界     830.04    101  3570\n3587  56059393          坏蛋是怎么炼成的    有声小说1     都市纵横     263.29    101  3570\n3588  62602461            张三丰异界游    有声小说1     玄幻异界     848.09    101  3570\n\n[3589 rows x 7 columns]",
      "text/html": "<div>\n<style scoped>\n    .dataframe tbody tr th:only-of-type {\n        vertical-align: middle;\n    }\n\n    .dataframe tbody tr th {\n        vertical-align: top;\n    }\n\n    .dataframe thead th {\n        text-align: right;\n    }\n</style>\n<table border=\"1\" class=\"dataframe\">\n  <thead>\n    <tr style=\"text-align: right;\">\n      <th></th>\n      <th>albumid</th>\n      <th>albumname</th>\n      <th>tagname2</th>\n      <th>tagname3</th>\n      <th>play_dur</th>\n      <th>uv</th>\n      <th>rn</th>\n    </tr>\n  </thead>\n  <tbody>\n    <tr>\n      <th>0</th>\n      <td>42540805</td>\n      <td>校花的贴身高手</td>\n      <td>有声小说1</td>\n      <td>都市纵横</td>\n      <td>467687.05</td>\n      <td>33986</td>\n      <td>1</td>\n    </tr>\n    <tr>\n      <th>1</th>\n      <td>58273021</td>\n      <td>青岛江湖往事-聂磊传奇</td>\n      <td>有声小说1</td>\n      <td>都市纵横</td>\n      <td>221704.93</td>\n      <td>29790</td>\n      <td>2</td>\n    </tr>\n    <tr>\n      <th>2</th>\n      <td>37191013</td>\n      <td>盗墓笔记</td>\n      <td>有声小说1</td>\n      <td>悬疑推理</td>\n      <td>119166.38</td>\n      <td>29688</td>\n      <td>3</td>\n    </tr>\n    <tr>\n      <th>3</th>\n      <td>39843428</td>\n      <td>斗罗大陆</td>\n      <td>有声小说1</td>\n      <td>玄幻异界</td>\n      <td>129491.52</td>\n      <td>29509</td>\n      <td>4</td>\n    </tr>\n    <tr>\n      <th>4</th>\n      <td>65637931</td>\n      <td>修炼9999级了，老祖才100级</td>\n      <td>有声小说1</td>\n      <td>玄幻异界</td>\n      <td>22354.11</td>\n      <td>25225</td>\n      <td>5</td>\n    </tr>\n    <tr>\n      <th>...</th>\n      <td>...</td>\n      <td>...</td>\n      <td>...</td>\n      <td>...</td>\n      <td>...</td>\n      <td>...</td>\n      <td>...</td>\n    </tr>\n    <tr>\n      <th>3584</th>\n      <td>57384454</td>\n      <td>修仙女配只想独自美丽</td>\n      <td>有声小说1</td>\n      <td>玄幻异界</td>\n      <td>483.43</td>\n      <td>101</td>\n      <td>3570</td>\n    </tr>\n    <tr>\n      <th>3585</th>\n      <td>38338851</td>\n      <td>贞观贤王</td>\n      <td>有声小说1</td>\n      <td>历史铁血</td>\n      <td>621.39</td>\n      <td>101</td>\n      <td>3570</td>\n    </tr>\n    <tr>\n      <th>3586</th>\n      <td>40462658</td>\n      <td>我真的不是气运之子</td>\n      <td>有声小说1</td>\n      <td>玄幻异界</td>\n      <td>830.04</td>\n      <td>101</td>\n      <td>3570</td>\n    </tr>\n    <tr>\n      <th>3587</th>\n      <td>56059393</td>\n      <td>坏蛋是怎么炼成的</td>\n      <td>有声小说1</td>\n      <td>都市纵横</td>\n      <td>263.29</td>\n      <td>101</td>\n      <td>3570</td>\n    </tr>\n    <tr>\n      <th>3588</th>\n      <td>62602461</td>\n      <td>张三丰异界游</td>\n      <td>有声小说1</td>\n      <td>玄幻异界</td>\n      <td>848.09</td>\n      <td>101</td>\n      <td>3570</td>\n    </tr>\n  </tbody>\n</table>\n<p>3589 rows × 7 columns</p>\n</div>"
     },
     "execution_count": 49,
     "metadata": {},
     "output_type": "execute_result"
    }
   ],
   "source": [
    "album_df"
   ],
   "metadata": {
    "collapsed": false,
    "ExecuteTime": {
     "start_time": "2023-04-11T22:13:05.696565Z",
     "end_time": "2023-04-11T22:13:05.710408Z"
    }
   }
  },
  {
   "cell_type": "code",
   "execution_count": 50,
   "outputs": [],
   "source": [
    "album_df['albumname'].fillna('', inplace=True)\n",
    "album_df['albumname_clean'] = album_df['albumname'].apply(\n",
    "        lambda x: x.replace('@BI_COLUMN_SPLIT@', ' ').replace('@BI_FIELD_R@', ' ').replace('@BI_ROW_SPLIT@',\n",
    "                                                                                           ' ').replace('\\u3000',\n",
    "                                                                                                        ' '))  # 去除制表符、空白符"
   ],
   "metadata": {
    "collapsed": false,
    "ExecuteTime": {
     "start_time": "2023-04-11T22:13:06.090659Z",
     "end_time": "2023-04-11T22:13:06.096092Z"
    }
   }
  },
  {
   "cell_type": "code",
   "execution_count": 51,
   "outputs": [
    {
     "data": {
      "text/plain": "       albumid         albumname tagname2 tagname3   play_dur     uv    rn  \\\n0     42540805           校花的贴身高手    有声小说1     都市纵横  467687.05  33986     1   \n1     58273021       青岛江湖往事-聂磊传奇    有声小说1     都市纵横  221704.93  29790     2   \n2     37191013              盗墓笔记    有声小说1     悬疑推理  119166.38  29688     3   \n3     39843428              斗罗大陆    有声小说1     玄幻异界  129491.52  29509     4   \n4     65637931  修炼9999级了，老祖才100级    有声小说1     玄幻异界   22354.11  25225     5   \n...        ...               ...      ...      ...        ...    ...   ...   \n3584  57384454        修仙女配只想独自美丽    有声小说1     玄幻异界     483.43    101  3570   \n3585  38338851              贞观贤王    有声小说1     历史铁血     621.39    101  3570   \n3586  40462658         我真的不是气运之子    有声小说1     玄幻异界     830.04    101  3570   \n3587  56059393          坏蛋是怎么炼成的    有声小说1     都市纵横     263.29    101  3570   \n3588  62602461            张三丰异界游    有声小说1     玄幻异界     848.09    101  3570   \n\n       albumname_clean  \n0              校花的贴身高手  \n1          青岛江湖往事-聂磊传奇  \n2                 盗墓笔记  \n3                 斗罗大陆  \n4     修炼9999级了，老祖才100级  \n...                ...  \n3584        修仙女配只想独自美丽  \n3585              贞观贤王  \n3586         我真的不是气运之子  \n3587          坏蛋是怎么炼成的  \n3588            张三丰异界游  \n\n[3589 rows x 8 columns]",
      "text/html": "<div>\n<style scoped>\n    .dataframe tbody tr th:only-of-type {\n        vertical-align: middle;\n    }\n\n    .dataframe tbody tr th {\n        vertical-align: top;\n    }\n\n    .dataframe thead th {\n        text-align: right;\n    }\n</style>\n<table border=\"1\" class=\"dataframe\">\n  <thead>\n    <tr style=\"text-align: right;\">\n      <th></th>\n      <th>albumid</th>\n      <th>albumname</th>\n      <th>tagname2</th>\n      <th>tagname3</th>\n      <th>play_dur</th>\n      <th>uv</th>\n      <th>rn</th>\n      <th>albumname_clean</th>\n    </tr>\n  </thead>\n  <tbody>\n    <tr>\n      <th>0</th>\n      <td>42540805</td>\n      <td>校花的贴身高手</td>\n      <td>有声小说1</td>\n      <td>都市纵横</td>\n      <td>467687.05</td>\n      <td>33986</td>\n      <td>1</td>\n      <td>校花的贴身高手</td>\n    </tr>\n    <tr>\n      <th>1</th>\n      <td>58273021</td>\n      <td>青岛江湖往事-聂磊传奇</td>\n      <td>有声小说1</td>\n      <td>都市纵横</td>\n      <td>221704.93</td>\n      <td>29790</td>\n      <td>2</td>\n      <td>青岛江湖往事-聂磊传奇</td>\n    </tr>\n    <tr>\n      <th>2</th>\n      <td>37191013</td>\n      <td>盗墓笔记</td>\n      <td>有声小说1</td>\n      <td>悬疑推理</td>\n      <td>119166.38</td>\n      <td>29688</td>\n      <td>3</td>\n      <td>盗墓笔记</td>\n    </tr>\n    <tr>\n      <th>3</th>\n      <td>39843428</td>\n      <td>斗罗大陆</td>\n      <td>有声小说1</td>\n      <td>玄幻异界</td>\n      <td>129491.52</td>\n      <td>29509</td>\n      <td>4</td>\n      <td>斗罗大陆</td>\n    </tr>\n    <tr>\n      <th>4</th>\n      <td>65637931</td>\n      <td>修炼9999级了，老祖才100级</td>\n      <td>有声小说1</td>\n      <td>玄幻异界</td>\n      <td>22354.11</td>\n      <td>25225</td>\n      <td>5</td>\n      <td>修炼9999级了，老祖才100级</td>\n    </tr>\n    <tr>\n      <th>...</th>\n      <td>...</td>\n      <td>...</td>\n      <td>...</td>\n      <td>...</td>\n      <td>...</td>\n      <td>...</td>\n      <td>...</td>\n      <td>...</td>\n    </tr>\n    <tr>\n      <th>3584</th>\n      <td>57384454</td>\n      <td>修仙女配只想独自美丽</td>\n      <td>有声小说1</td>\n      <td>玄幻异界</td>\n      <td>483.43</td>\n      <td>101</td>\n      <td>3570</td>\n      <td>修仙女配只想独自美丽</td>\n    </tr>\n    <tr>\n      <th>3585</th>\n      <td>38338851</td>\n      <td>贞观贤王</td>\n      <td>有声小说1</td>\n      <td>历史铁血</td>\n      <td>621.39</td>\n      <td>101</td>\n      <td>3570</td>\n      <td>贞观贤王</td>\n    </tr>\n    <tr>\n      <th>3586</th>\n      <td>40462658</td>\n      <td>我真的不是气运之子</td>\n      <td>有声小说1</td>\n      <td>玄幻异界</td>\n      <td>830.04</td>\n      <td>101</td>\n      <td>3570</td>\n      <td>我真的不是气运之子</td>\n    </tr>\n    <tr>\n      <th>3587</th>\n      <td>56059393</td>\n      <td>坏蛋是怎么炼成的</td>\n      <td>有声小说1</td>\n      <td>都市纵横</td>\n      <td>263.29</td>\n      <td>101</td>\n      <td>3570</td>\n      <td>坏蛋是怎么炼成的</td>\n    </tr>\n    <tr>\n      <th>3588</th>\n      <td>62602461</td>\n      <td>张三丰异界游</td>\n      <td>有声小说1</td>\n      <td>玄幻异界</td>\n      <td>848.09</td>\n      <td>101</td>\n      <td>3570</td>\n      <td>张三丰异界游</td>\n    </tr>\n  </tbody>\n</table>\n<p>3589 rows × 8 columns</p>\n</div>"
     },
     "execution_count": 51,
     "metadata": {},
     "output_type": "execute_result"
    }
   ],
   "source": [
    "album_df"
   ],
   "metadata": {
    "collapsed": false,
    "ExecuteTime": {
     "start_time": "2023-04-11T22:13:06.701066Z",
     "end_time": "2023-04-11T22:13:06.715217Z"
    }
   }
  },
  {
   "cell_type": "code",
   "execution_count": 52,
   "outputs": [],
   "source": [
    "index2albumid = album_df['albumid'].tolist()\n",
    "index2album = album_df['albumname_clean'].tolist()\n",
    "\n",
    "gpt_model = {\n",
    "    'curie': 'text-curie-001',\n",
    "    'davinci': 'text-davinci-003',\n",
    "    'gpt': 'gpt-3.5-turbo'\n",
    "}"
   ],
   "metadata": {
    "collapsed": false,
    "ExecuteTime": {
     "start_time": "2023-04-11T22:13:07.712028Z",
     "end_time": "2023-04-11T22:13:07.721688Z"
    }
   }
  },
  {
   "cell_type": "code",
   "execution_count": 53,
   "outputs": [
    {
     "data": {
      "text/plain": "3589"
     },
     "execution_count": 53,
     "metadata": {},
     "output_type": "execute_result"
    }
   ],
   "source": [
    "len(index2album)"
   ],
   "metadata": {
    "collapsed": false,
    "ExecuteTime": {
     "start_time": "2023-04-11T22:13:08.388063Z",
     "end_time": "2023-04-11T22:13:08.395834Z"
    }
   }
  },
  {
   "cell_type": "code",
   "execution_count": 57,
   "outputs": [
    {
     "data": {
      "text/plain": "['贞观贤王', '修仙女配只想独自美丽', '都市之修真归来', '大染坊丨民国商战', '央视87版《红楼梦》', '百妖谱']"
     },
     "execution_count": 57,
     "metadata": {},
     "output_type": "execute_result"
    }
   ],
   "source": [],
   "metadata": {
    "collapsed": false,
    "ExecuteTime": {
     "start_time": "2023-04-11T22:23:43.358583Z",
     "end_time": "2023-04-11T22:23:43.365445Z"
    }
   }
  },
  {
   "cell_type": "code",
   "execution_count": 82,
   "outputs": [
    {
     "name": "stdout",
     "output_type": "stream",
     "text": [
      "['史上第一妖后', '乡村小神医', '民间故事：悬疑民俗故事', '碧血剑', '加代传奇', '我当阴阳先生的那几年 全集', '经典传奇2013', '超级战兵', '末日丧尸进化丨免费有声小说', '剑来精品多人有声剧']\n"
     ]
    }
   ],
   "source": [
    "a=index2album[1700:1710]\n",
    "print(a)\n",
    "b=index2albumid[1700:1710]"
   ],
   "metadata": {
    "collapsed": false,
    "ExecuteTime": {
     "start_time": "2023-04-11T22:59:09.288019Z",
     "end_time": "2023-04-11T22:59:09.294564Z"
    }
   }
  },
  {
   "cell_type": "code",
   "execution_count": 83,
   "outputs": [
    {
     "name": "stdout",
     "output_type": "stream",
     "text": [
      "Human: '《史上第一妖后》'这本小说的标签有哪些？至少返回6个，不需要换行，用逗号分开\n",
      "AI: 古代言情, 重生, 宫斗, 女强, 美食, 心机\n",
      "Human: '《乡村小神医》'这本小说的标签有哪些？至少返回6个，不需要换行，用逗号分开\n",
      "AI: 乡村, 小说, 小神医, 医学, 穿越, 古代\n",
      "Human: '《民间故事：悬疑民俗故事》'这本小说的标签有哪些？至少返回6个，不需要换行，用逗号分开\n",
      "AI: 悬疑,民俗,故事,民间传说,神秘,传统文化\n",
      "Human: '《碧血剑》'这本小说的标签有哪些？至少返回6个，不需要换行，用逗号分开\n",
      "AI: 武侠、江湖、架空历史、爱情、恩怨、儒家思想。\n",
      "Human: '《加代传奇》'这本小说的标签有哪些？至少返回6个，不需要换行，用逗号分开\n",
      "AI: 历史,文学,日本,宫廷,争斗,传奇\n",
      "Human: '《我当阴阳先生的那几年 全集》'这本小说的标签有哪些？至少返回6个，不需要换行，用逗号分开\n",
      "AI: 玄幻,仙侠,都市,鬼怪,异能,修真\n",
      "Human: '《经典传奇2013》'这本小说的标签有哪些？至少返回6个，不需要换行，用逗号分开\n",
      "AI: 武侠,历史,传奇,冒险,魔幻,修真\n",
      "Human: '《超级战兵》'这本小说的标签有哪些？至少返回6个，不需要换行，用逗号分开\n",
      "AI: 未来,战争,科幻,奇幻,机甲,人类与机器的对抗\n",
      "Human: '《末日丧尸进化丨免费有声小说》'这本小说的标签有哪些？至少返回6个，不需要换行，用逗号分开\n",
      "AI: 灾难, 生存, 前线, 进化, 末日, 恐怖\n",
      "Human: '《剑来精品多人有声剧》'这本小说的标签有哪些？至少返回6个，不需要换行，用逗号分开\n",
      "AI: 玄幻,修仙,异界,战斗,情感,多人听书\n"
     ]
    }
   ],
   "source": [
    "with open('./openai_answer.txt', \"a+\", encoding='utf-8') as f:\n",
    "    for index,albumname in enumerate(a):\n",
    "        # if index <10:\n",
    "        #     continue\n",
    "        prompt = \"'《{}》'这本小说的标签有哪些？至少返回6个，不需要换行，用逗号分开\".format(albumname)\n",
    "        completion = openai.ChatCompletion.create(\n",
    "            model=gpt_model['gpt'],\n",
    "            messages=[\n",
    "                {\"role\": \"user\", \"content\": prompt}\n",
    "            ]\n",
    "        )\n",
    "        text_raw = completion.choices[0].message['content']\n",
    "        text = text_raw.strip()\n",
    "        f.writelines(\"{}:{}:{}\\n\".format(b[index], albumname, text))\n",
    "        print(\"Human: {}\".format(prompt))\n",
    "        print(\"AI: {}\".format(text))\n",
    "        time.sleep(2)"
   ],
   "metadata": {
    "collapsed": false,
    "ExecuteTime": {
     "start_time": "2023-04-11T22:59:13.503886Z",
     "end_time": "2023-04-11T23:03:18.913091Z"
    }
   }
  },
  {
   "cell_type": "code",
   "execution_count": null,
   "outputs": [],
   "source": [
    "# 1. 必须直接使用作品名，不能加xxx精品播放之类的（可以通过分隔符处理）\n",
    "# 2. 网速问题\n",
    "# 3. 账号收费问题\n",
    "# 4. 越经典作品的越准确"
   ],
   "metadata": {
    "collapsed": false
   }
  }
 ],
 "metadata": {
  "kernelspec": {
   "display_name": "Python 3",
   "language": "python",
   "name": "python3"
  },
  "language_info": {
   "codemirror_mode": {
    "name": "ipython",
    "version": 2
   },
   "file_extension": ".py",
   "mimetype": "text/x-python",
   "name": "python",
   "nbconvert_exporter": "python",
   "pygments_lexer": "ipython2",
   "version": "2.7.6"
  }
 },
 "nbformat": 4,
 "nbformat_minor": 0
}
