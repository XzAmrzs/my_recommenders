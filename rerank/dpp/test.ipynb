{
 "cells": [
  {
   "cell_type": "code",
   "execution_count": 34,
   "metadata": {
    "collapsed": true,
    "ExecuteTime": {
     "start_time": "2023-04-13T00:40:00.308450Z",
     "end_time": "2023-04-13T00:40:00.314019Z"
    }
   },
   "outputs": [
    {
     "name": "stdout",
     "output_type": "stream",
     "text": [
      "[1.2351593  1.21732296 1.21107065 1.22746389 1.21804903]\n"
     ]
    }
   ],
   "source": [
    "import numpy as np\n",
    "item_size = 5  # 待重排物品数\n",
    "feature_dimension = 3  # 向量维度\n",
    "max_length = 3\n",
    "\n",
    "# 精排得分\n",
    "scores = np.exp(0.01 * np.random.randn(item_size) + 0.2)\n",
    "print(scores)\n",
    "# 相似性向量及归一化\n",
    "feature_vectors = np.random.randn(item_size, feature_dimension)\n",
    "feature_vectors /= np.linalg.norm(feature_vectors, axis=1, keepdims=True)\n",
    "# 生成相似度得分矩阵\n",
    "similarities = np.dot(feature_vectors, feature_vectors.T)"
   ]
  },
  {
   "cell_type": "code",
   "execution_count": 35,
   "outputs": [
    {
     "data": {
      "text/plain": "array([[ 1.        , -0.0694668 , -0.22947289,  0.89368868, -0.13800537],\n       [-0.0694668 ,  1.        ,  0.96695884,  0.17772823,  0.21770731],\n       [-0.22947289,  0.96695884,  1.        ,  0.09844972,  0.04052597],\n       [ 0.89368868,  0.17772823,  0.09844972,  1.        , -0.43999586],\n       [-0.13800537,  0.21770731,  0.04052597, -0.43999586,  1.        ]])"
     },
     "execution_count": 35,
     "metadata": {},
     "output_type": "execute_result"
    }
   ],
   "source": [
    "similarities"
   ],
   "metadata": {
    "collapsed": false,
    "ExecuteTime": {
     "start_time": "2023-04-13T00:40:00.508375Z",
     "end_time": "2023-04-13T00:40:00.544968Z"
    }
   }
  },
  {
   "cell_type": "code",
   "execution_count": 36,
   "outputs": [
    {
     "data": {
      "text/plain": "(1, 5)"
     },
     "execution_count": 36,
     "metadata": {},
     "output_type": "execute_result"
    }
   ],
   "source": [
    "scores.reshape((1,item_size)).shape"
   ],
   "metadata": {
    "collapsed": false,
    "ExecuteTime": {
     "start_time": "2023-04-13T00:40:00.772712Z",
     "end_time": "2023-04-13T00:40:00.785729Z"
    }
   }
  },
  {
   "cell_type": "code",
   "execution_count": 37,
   "outputs": [
    {
     "data": {
      "text/plain": "array([[ 1.2351593 , -0.08456353, -0.27790789,  1.09697059, -0.16809731],\n       [-0.08580256,  1.21732296,  1.17105546,  0.21815498,  0.26517818],\n       [-0.28343558,  1.17710119,  1.21107065,  0.12084348,  0.04936262],\n       [ 1.10384789,  0.21635265,  0.11922957,  1.22746389, -0.53593653],\n       [-0.17045862,  0.26502011,  0.04907982, -0.54007903,  1.21804903]])"
     },
     "execution_count": 37,
     "metadata": {},
     "output_type": "execute_result"
    }
   ],
   "source": [
    "scores.reshape((1,item_size))*similarities"
   ],
   "metadata": {
    "collapsed": false,
    "ExecuteTime": {
     "start_time": "2023-04-13T00:40:00.902801Z",
     "end_time": "2023-04-13T00:40:00.912097Z"
    }
   }
  },
  {
   "cell_type": "code",
   "execution_count": 38,
   "outputs": [
    {
     "data": {
      "text/plain": "array([[ 1.5256185 , -0.10294113, -0.33656608,  1.34649178, -0.20475076],\n       [-0.10597983,  1.48187518,  1.4182309 ,  0.26777736,  0.32300003],\n       [-0.35008809,  1.4329123 ,  1.46669211,  0.148331  ,  0.06012609],\n       [ 1.36342799,  0.26337105,  0.14439543,  1.5066676 , -0.65279697],\n       [-0.21054355,  0.32261507,  0.05943912, -0.6629275 ,  1.48364343]])"
     },
     "execution_count": 38,
     "metadata": {},
     "output_type": "execute_result"
    }
   ],
   "source": [
    "scores*similarities*scores"
   ],
   "metadata": {
    "collapsed": false,
    "ExecuteTime": {
     "start_time": "2023-04-13T00:40:02.346338Z",
     "end_time": "2023-04-13T00:40:02.364061Z"
    }
   }
  },
  {
   "cell_type": "code",
   "execution_count": 16,
   "outputs": [
    {
     "data": {
      "text/plain": "array([[ 1.47301202,  0.21056307,  0.50341161, -1.10604272, -1.02304781],\n       [ 0.21056307,  1.5075574 ,  1.35903587,  0.65631911,  0.63287275],\n       [ 0.50341161,  1.35903587,  1.47531538,  0.13261165,  0.58391239],\n       [-1.10604272,  0.65631911,  0.13261165,  1.49668171,  0.919277  ],\n       [-1.02304781,  0.63287275,  0.58391239,  0.919277  ,  1.47809148]])"
     },
     "execution_count": 16,
     "metadata": {},
     "output_type": "execute_result"
    }
   ],
   "source": [
    "# 此处是5x1 * 5x5 * 1x5 = 5x5 ，用到了numpy中的广播机制\n",
    "kernel_matrix = scores.reshape((item_size, 1)) * similarities * scores.reshape((1, item_size))"
   ],
   "metadata": {
    "collapsed": false,
    "ExecuteTime": {
     "start_time": "2023-04-13T00:24:06.190482Z",
     "end_time": "2023-04-13T00:24:06.196551Z"
    }
   }
  },
  {
   "cell_type": "code",
   "execution_count": 17,
   "outputs": [
    {
     "data": {
      "text/plain": "array([[ 1.47301202,  0.21056307,  0.50341161, -1.10604272, -1.02304781],\n       [ 0.21056307,  1.5075574 ,  1.35903587,  0.65631911,  0.63287275],\n       [ 0.50341161,  1.35903587,  1.47531538,  0.13261165,  0.58391239],\n       [-1.10604272,  0.65631911,  0.13261165,  1.49668171,  0.919277  ],\n       [-1.02304781,  0.63287275,  0.58391239,  0.919277  ,  1.47809148]])"
     },
     "execution_count": 17,
     "metadata": {},
     "output_type": "execute_result"
    }
   ],
   "source": [
    "kernel_matrix"
   ],
   "metadata": {
    "collapsed": false,
    "ExecuteTime": {
     "start_time": "2023-04-13T00:24:11.085759Z",
     "end_time": "2023-04-13T00:24:11.100651Z"
    }
   }
  },
  {
   "cell_type": "code",
   "execution_count": null,
   "outputs": [],
   "source": [],
   "metadata": {
    "collapsed": false
   }
  }
 ],
 "metadata": {
  "kernelspec": {
   "display_name": "Python 3",
   "language": "python",
   "name": "python3"
  },
  "language_info": {
   "codemirror_mode": {
    "name": "ipython",
    "version": 2
   },
   "file_extension": ".py",
   "mimetype": "text/x-python",
   "name": "python",
   "nbconvert_exporter": "python",
   "pygments_lexer": "ipython2",
   "version": "2.7.6"
  }
 },
 "nbformat": 4,
 "nbformat_minor": 0
}
